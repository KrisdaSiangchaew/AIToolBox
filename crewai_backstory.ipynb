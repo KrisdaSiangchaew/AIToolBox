{
 "cells": [
  {
   "cell_type": "code",
   "execution_count": null,
   "id": "fa061e2c",
   "metadata": {},
   "outputs": [],
   "source": [
    "from dotenv import load_dotenv\n",
    "from openai import OpenAI\n",
    "\n",
    "\n",
    "load_dotenv(override=True)\n",
    "client = OpenAI()\n",
    "model = 'gpt-4.1-nano'"
   ]
  },
  {
   "cell_type": "code",
   "execution_count": null,
   "id": "8f676857",
   "metadata": {},
   "outputs": [],
   "source": [
    "company = 'Tesla'\n",
    "replacement_text = '{company}'\n",
    "agent_name = \"analyst\"\n",
    "role = f\"Market analyst and financial report writer focused on {company}\"\n",
    "goal = f\"Analyze company {company} and create a comprehensive, well-structured report that presents insights in a clear and engaging way\"\n",
    "\n",
    "system_message = f\"You write a backstory for a crewai AI agent.\\n\"\n",
    "system_message += f\"Write it in a succint and no more than few sentences.\\n\" \n",
    "system_message += f\"Write it in plain text, no markdown. Write it in 2nd person.\\n\"\n",
    "system_message += f\"In your final output, replace your reference to {company} with this text: {replacement_text}\"\n",
    "\n",
    "user_message = f\"Write a backstory for an agent having the role of '{role} for {company}' and a goal of '{goal} for {company}'.\""
   ]
  },
  {
   "cell_type": "code",
   "execution_count": null,
   "id": "6e594a41",
   "metadata": {},
   "outputs": [],
   "source": [
    "response = client.chat.completions.create(\n",
    "    messages=[\n",
    "        {\"role\": \"system\", \"content\": system_message},\n",
    "        {\"role\": \"user\", \"content\": user_message}\n",
    "    ],\n",
    "    model = model\n",
    ")\n",
    "\n",
    "backstory = response.choices[0].message.content"
   ]
  },
  {
   "cell_type": "code",
   "execution_count": null,
   "id": "6bc63e35",
   "metadata": {},
   "outputs": [],
   "source": [
    "output = f\"{agent_name}:\\n\"\n",
    "output += f\"\\trole: >\\n\\t\\t{role} \" + \"for {company}\\n\"\n",
    "output += f\"\\tgoal: >\\n\\t\\t{goal} \" + \"for {company}\\n\"\n",
    "output += f\"\\tbackstory: >\\n\\t\\t{backstory}\\n\"\n",
    "\n",
    "print(output)"
   ]
  },
  {
   "cell_type": "code",
   "execution_count": null,
   "id": "597aca3a",
   "metadata": {},
   "outputs": [],
   "source": []
  }
 ],
 "metadata": {
  "kernelspec": {
   "display_name": ".venv",
   "language": "python",
   "name": "python3"
  },
  "language_info": {
   "codemirror_mode": {
    "name": "ipython",
    "version": 3
   },
   "file_extension": ".py",
   "mimetype": "text/x-python",
   "name": "python",
   "nbconvert_exporter": "python",
   "pygments_lexer": "ipython3",
   "version": "3.12.11"
  }
 },
 "nbformat": 4,
 "nbformat_minor": 5
}
